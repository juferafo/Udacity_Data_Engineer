{
 "cells": [
  {
   "cell_type": "markdown",
   "metadata": {},
   "source": [
    "# Lesson 2 Exercise 2: Creating Denormalized Tables\n",
    "\n",
    "<img src=\"images/postgresSQLlogo.png\" width=\"250\" height=\"250\">"
   ]
  },
  {
   "cell_type": "markdown",
   "metadata": {},
   "source": [
    "## Walk through the basics of modeling data from normalized from to denormalized form. We will create tables in PostgreSQL, insert rows of data, and do simple JOIN SQL queries to show how these multiple tables can work together. \n",
    "\n",
    "#### Where you see ##### you will need to fill in code. This exercise will be more challenging than the last. Use the information provided to create the tables and write the insert statements.\n",
    "\n",
    "#### Remember the examples shown are simple, but imagine these situations at scale with large datasets, many users, and the need for quick response time. \n",
    "\n",
    "Note: __Do not__ click the blue Preview button in the lower task bar"
   ]
  },
  {
   "cell_type": "markdown",
   "metadata": {},
   "source": [
    "### Import the library \n",
    "Note: An error might popup after this command has exectuted. If it does read it careful before ignoring. "
   ]
  },
  {
   "cell_type": "code",
   "execution_count": 1,
   "metadata": {},
   "outputs": [],
   "source": [
    "import psycopg2"
   ]
  },
  {
   "cell_type": "markdown",
   "metadata": {},
   "source": [
    "### Create a connection to the database, get a cursor, and set autocommit to true"
   ]
  },
  {
   "cell_type": "code",
   "execution_count": 2,
   "metadata": {},
   "outputs": [],
   "source": [
    "try: \n",
    "    conn = psycopg2.connect(\"host=127.0.0.1 dbname=studentdb user=student password=student\")\n",
    "except psycopg2.Error as e: \n",
    "    print(\"Error: Could not make connection to the Postgres database\")\n",
    "    print(e)\n",
    "try: \n",
    "    cur = conn.cursor()\n",
    "except psycopg2.Error as e: \n",
    "    print(\"Error: Could not get cursor to the Database\")\n",
    "    print(e)\n",
    "conn.set_session(autocommit=True)"
   ]
  },
  {
   "cell_type": "markdown",
   "metadata": {},
   "source": [
    "#### Let's start with our normalized (3NF) database set of tables we had in the last exercise, but we have added a new table `sales`. \n",
    "\n",
    "`Table Name: transactions2 \n",
    "column 0: transaction Id\n",
    "column 1: Customer Name\n",
    "column 2: Cashier Id\n",
    "column 3: Year `\n",
    "\n",
    "`Table Name: albums_sold\n",
    "column 0: Album Id\n",
    "column 1: Transaction Id\n",
    "column 3: Album Name` \n",
    "\n",
    "`Table Name: employees\n",
    "column 0: Employee Id\n",
    "column 1: Employee Name `\n",
    "\n",
    "`Table Name: sales\n",
    "column 0: Transaction Id\n",
    "column 1: Amount Spent\n",
    "`\n",
    "<img src=\"images/table16.png\" width=\"450\" height=\"450\"> <img src=\"images/table15.png\" width=\"450\" height=\"450\"> <img src=\"images/table17.png\" width=\"350\" height=\"350\"> <img src=\"images/table18.png\" width=\"350\" height=\"350\">\n"
   ]
  },
  {
   "cell_type": "markdown",
   "metadata": {},
   "source": [
    "### TO-DO: Add all Create statements for all Tables and Insert data into the tables"
   ]
  },
  {
   "cell_type": "code",
   "execution_count": 24,
   "metadata": {},
   "outputs": [],
   "source": [
    "def drop_table(cursor, table):\n",
    "    cursor.execute(\"DROP TABLE IF EXISTS {}\".format(table))\n",
    "\n",
    "def create_table(cursor, table, schema, drop=True):\n",
    "    if drop:\n",
    "        drop_table(cursor, table)\n",
    "    cursor.execute(\"CREATE TABLE IF NOT EXISTS {} {};\".format(table, schema))"
   ]
  },
  {
   "cell_type": "code",
   "execution_count": 25,
   "metadata": {},
   "outputs": [],
   "source": [
    "# TO-DO: Add all Create statements for all tables\n",
    "try: \n",
    "    schema_transactions2 = \"(transaction_id int,\\\n",
    "                             customer_name varchar,\\\n",
    "                             cashier_id int,\\\n",
    "                             year int)\"\n",
    "    create_table(cur, \"transactions2\", schema_transactions2)\n",
    "except psycopg2.Error as e: \n",
    "    print(\"Error: Issue creating table\")\n",
    "    print (e)\n",
    "\n",
    "try: \n",
    "    schema_albums_sold = \"(album_id int,\\\n",
    "                           transaction_id int,\\\n",
    "                           album_name varchar)\"\n",
    "    create_table(cur, \"albums_sold\", schema_albums_sold)\n",
    "except psycopg2.Error as e: \n",
    "    print(\"Error: Issue creating table\")\n",
    "    print (e)\n",
    "\n",
    "try: \n",
    "    schema_employees = \"(employee_id int,\\\n",
    "                         employee_name varchar)\"\n",
    "    create_table(cur, \"employees\", schema_employees)\n",
    "except psycopg2.Error as e: \n",
    "    print(\"Error: Issue creating table\")\n",
    "    print (e)\n",
    "\n",
    "try: \n",
    "    schema_sales = \"(transaction_id int,\\\n",
    "                         amount_spent int)\"\n",
    "    create_table(cur, \"sales\", schema_sales)\n",
    "except psycopg2.Error as e: \n",
    "    print(\"Error: Issue creating table\")\n",
    "    print (e)\n",
    "\n",
    "    \n"
   ]
  },
  {
   "cell_type": "code",
   "execution_count": 29,
   "metadata": {},
   "outputs": [],
   "source": [
    "def insert(cursor, table, columns, values):\n",
    "    #print(\"INSERT INTO {} {} VALUES {}\".format(table, columns, values))\n",
    "    cursor.execute(\"INSERT INTO {} {} VALUES {}\".format(table, columns, values))\n",
    "\n",
    "def query(cursor, query, do_print = True):\n",
    "    cur.execute(query)\n",
    "    if do_print:\n",
    "        rows = cur.fetchall()\n",
    "        for r in rows:\n",
    "            print(r)"
   ]
  },
  {
   "cell_type": "code",
   "execution_count": 27,
   "metadata": {},
   "outputs": [
    {
     "name": "stdout",
     "output_type": "stream",
     "text": [
      "INSERT INTO transactions2 (transaction_id,                          customer_name,                          cashier_id,                          year) VALUES (1, 'Amanda', 1, 2000)\n",
      "INSERT INTO transactions2 (transaction_id,                          customer_name,                          cashier_id,                          year) VALUES (2, 'Toby', 1, 2000)\n",
      "INSERT INTO transactions2 (transaction_id,                          customer_name,                          cashier_id,                          year) VALUES (3, 'Max', 2, 2018)\n"
     ]
    }
   ],
   "source": [
    "columns_transactions2 = \"(transaction_id,\\\n",
    "                          customer_name,\\\n",
    "                          cashier_id,\\\n",
    "                          year)\"\n",
    "insert(cursor = cur,\\\n",
    "       table = \"transactions2\",\\\n",
    "       columns = columns_transactions2,\\\n",
    "       values = (1, \"Amanda\", 1, 2000))\n",
    "\n",
    "insert(cursor = cur,\\\n",
    "       table = \"transactions2\",\\\n",
    "       columns = columns_transactions2,\\\n",
    "       values = (2, \"Toby\", 1, 2000))\n",
    "\n",
    "insert(cursor = cur,\\\n",
    "       table = \"transactions2\",\\\n",
    "       columns = columns_transactions2,\\\n",
    "       values = (3, \"Max\", 2, 2018))"
   ]
  },
  {
   "cell_type": "code",
   "execution_count": 28,
   "metadata": {},
   "outputs": [
    {
     "name": "stdout",
     "output_type": "stream",
     "text": [
      "(1, 'Amanda', 1, 2000)\n",
      "(2, 'Toby', 1, 2000)\n",
      "(3, 'Max', 2, 2018)\n"
     ]
    }
   ],
   "source": [
    "query(cursor=cur, query=\"SELECT * FROM transactions2\")"
   ]
  },
  {
   "cell_type": "code",
   "execution_count": 30,
   "metadata": {},
   "outputs": [],
   "source": [
    "columns_albums_sold = \"(album_id ,\\\n",
    "                        transaction_id ,\\\n",
    "                        album_name )\"\n",
    "\n",
    "values = [\n",
    "    (1, 1, \"Rubber Soul\"),\n",
    "    (2, 1, \"Let It Be\"),\n",
    "    (3, 2, \"My Generation\"),\n",
    "    (4, 3, \"Meet the Beatles\"),\n",
    "    (5, 3, \"Help!\")\n",
    "]\n",
    "\n",
    "for v in values:\n",
    "    \n",
    "    insert(cursor = cur,\\\n",
    "           table = \"albums_sold\",\\\n",
    "           columns = columns_albums_sold,\\\n",
    "           values = v)"
   ]
  },
  {
   "cell_type": "code",
   "execution_count": 31,
   "metadata": {},
   "outputs": [
    {
     "name": "stdout",
     "output_type": "stream",
     "text": [
      "(1, 1, 'Rubber Soul')\n",
      "(2, 1, 'Let It Be')\n",
      "(3, 2, 'My Generation')\n",
      "(4, 3, 'Meet the Beatles')\n",
      "(5, 3, 'Help!')\n"
     ]
    }
   ],
   "source": [
    "query(cursor=cur, query=\"SELECT * FROM albums_sold\")"
   ]
  },
  {
   "cell_type": "code",
   "execution_count": 32,
   "metadata": {},
   "outputs": [],
   "source": [
    "columns_employees = \"(employee_id,\\\n",
    "                        employee_name)\"\n",
    "\n",
    "values = [\n",
    "    (1, \"Sam\"),\n",
    "    (2, \"Bob\")\n",
    "]\n",
    "\n",
    "for v in values:\n",
    "    \n",
    "    insert(cursor = cur,\\\n",
    "           table = \"employees\",\\\n",
    "           columns = columns_employees,\\\n",
    "           values = v)\n",
    "\n"
   ]
  },
  {
   "cell_type": "code",
   "execution_count": 33,
   "metadata": {},
   "outputs": [
    {
     "name": "stdout",
     "output_type": "stream",
     "text": [
      "(1, 'Sam')\n",
      "(2, 'Bob')\n"
     ]
    }
   ],
   "source": [
    "query(cursor=cur, query=\"SELECT * FROM employees\")"
   ]
  },
  {
   "cell_type": "code",
   "execution_count": 34,
   "metadata": {},
   "outputs": [],
   "source": [
    "columns_sales = \"(transaction_id,\\\n",
    "                      amount_spent)\"\n",
    "\n",
    "values = [\n",
    "    (1, 40),\n",
    "    (2, 19),\n",
    "    (3, 45)\n",
    "]\n",
    "\n",
    "for v in values:\n",
    "    \n",
    "    insert(cursor = cur,\\\n",
    "           table = \"sales\",\\\n",
    "           columns = columns_sales,\\\n",
    "           values = v)"
   ]
  },
  {
   "cell_type": "code",
   "execution_count": 35,
   "metadata": {},
   "outputs": [
    {
     "name": "stdout",
     "output_type": "stream",
     "text": [
      "(1, 40)\n",
      "(2, 19)\n",
      "(3, 45)\n"
     ]
    }
   ],
   "source": [
    "query(cursor=cur, query=\"SELECT * FROM sales\")"
   ]
  },
  {
   "cell_type": "markdown",
   "metadata": {},
   "source": [
    "#### TO-DO: Confirm using the Select statement the data were added correctly"
   ]
  },
  {
   "cell_type": "code",
   "execution_count": null,
   "metadata": {},
   "outputs": [],
   "source": [
    "print(\"Table: #####\\n\")\n",
    "try: \n",
    "    cur.execute(\"SELECT * FROM #####;\")\n",
    "except psycopg2.Error as e: \n",
    "    print(\"Error: select *\")\n",
    "    print (e)\n",
    "\n",
    "row = cur.fetchone()\n",
    "while row:\n",
    "   print(row)\n",
    "   row = cur.fetchone()\n",
    "\n",
    "print(\"\\nTable: #####\\n\")\n",
    "try: \n",
    "    cur.execute(\"SELECT * FROM #####;\")\n",
    "except psycopg2.Error as e: \n",
    "    print(\"Error: select *\")\n",
    "    print (e)\n",
    "\n",
    "row = cur.fetchone()\n",
    "while row:\n",
    "   print(row)\n",
    "   row = cur.fetchone()\n",
    "\n",
    "print(\"\\nTable: #####\\n\")\n",
    "try: \n",
    "    cur.execute(\"SELECT * FROM #####;\")\n",
    "except psycopg2.Error as e: \n",
    "    print(\"Error: select *\")\n",
    "    print (e)\n",
    "\n",
    "row = cur.fetchone()\n",
    "while row:\n",
    "   print(row)\n",
    "   row = cur.fetchone()\n",
    "    \n",
    "print(\"\\nTable: #####\\n\")\n",
    "try: \n",
    "    cur.execute(\"SELECT * FROM #####;\")\n",
    "except psycopg2.Error as e: \n",
    "    print(\"Error: select *\")\n",
    "    print (e)\n",
    "\n",
    "row = cur.fetchone()\n",
    "while row:\n",
    "   print(row)\n",
    "   row = cur.fetchone()"
   ]
  },
  {
   "cell_type": "markdown",
   "metadata": {},
   "source": [
    "### Let's say you need to do a query that gives:\n",
    "\n",
    "`transaction_id\n",
    " customer_name\n",
    " cashier name\n",
    " year \n",
    " albums sold\n",
    " amount sold` \n",
    "\n",
    "### TO-DO: Complete the statement below to perform a 3 way `JOIN` on the 4 tables you have created. "
   ]
  },
  {
   "cell_type": "code",
   "execution_count": null,
   "metadata": {},
   "outputs": [],
   "source": [
    "columns_transactions2 = \"(transaction_id,\\\n",
    "                          customer_name,\\\n",
    "                          cashier_id,\\\n",
    "                          year)\"\n",
    "\n",
    "columns_albums_sold = \"(album_id ,\\\n",
    "                        transaction_id ,\\\n",
    "                        album_name )\"\n",
    "\n",
    "columns_sales = \"(transaction_id,\\\n",
    "                  amount_spent)\"\n",
    "\n",
    "columns_employees = \"(employee_id,\\\n",
    "                      employee_name)\""
   ]
  },
  {
   "cell_type": "code",
   "execution_count": 45,
   "metadata": {},
   "outputs": [
    {
     "name": "stdout",
     "output_type": "stream",
     "text": [
      "(1, 'Amanda', 'Sam', 2000, 'Rubber Soul', 40)\n",
      "(1, 'Amanda', 'Sam', 2000, 'Let It Be', 40)\n",
      "(2, 'Toby', 'Sam', 2000, 'My Generation', 19)\n",
      "(3, 'Max', 'Bob', 2018, 'Meet the Beatles', 45)\n",
      "(3, 'Max', 'Bob', 2018, 'Help!', 45)\n"
     ]
    }
   ],
   "source": [
    "\n",
    "q = \"SELECT \\\n",
    "         t.transaction_id, t.customer_name, \\\n",
    "         e.employee_name, t.year, a.album_name, s.amount_spent \\\n",
    "     FROM transactions2 AS t \\\n",
    "     JOIN employees AS e ON t.cashier_id = e.employee_id \\\n",
    "     JOIN albums_sold AS a ON a.transaction_id = t.transaction_id \\\n",
    "     JOIN sales AS s ON s.transaction_id = t.transaction_id\"\n",
    "\n",
    "query(cursor=cur, query=q)"
   ]
  },
  {
   "cell_type": "markdown",
   "metadata": {},
   "source": [
    "#### Great we were able to get the data we wanted.\n",
    "\n",
    "### But, we had to perform a 3 way `JOIN` to get there. While it's great we had that flexibility, we need to remember that `JOINS` are slow and if we have a read heavy workload that required low latency queries we want to reduce the number of `JOINS`.  Let's think about denormalizing our normalized tables."
   ]
  },
  {
   "cell_type": "markdown",
   "metadata": {},
   "source": [
    "### With denormalization you want to think about the queries you are running and how to reduce the number of JOINS even if that means duplicating data. The following are the queries you need to run."
   ]
  },
  {
   "cell_type": "markdown",
   "metadata": {},
   "source": [
    "#### Query 1 : `select transaction_id, customer_name, amount_spent FROM <min number of tables>` \n",
    "It should generate the amount spent on each transaction \n",
    "#### Query 2: `select cashier_name, SUM(amount_spent) FROM <min number of tables> GROUP BY cashier_name` \n",
    "It should generate the total sales by cashier "
   ]
  },
  {
   "cell_type": "markdown",
   "metadata": {},
   "source": [
    "###  Query 1: `select transaction_id, customer_name, amount_spent FROM <min number of tables>`\n",
    "\n",
    "One way to do this would be to do a JOIN on the `sales` and `transactions2` table but we want to minimize the use of `JOINS`.  \n",
    "\n",
    "To reduce the number of tables, first add `amount_spent` to the `transactions` table so that you will not need to do a JOIN at all. \n",
    "\n",
    "`Table Name: transactions \n",
    "column 0: transaction Id\n",
    "column 1: Customer Name\n",
    "column 2: Cashier Id\n",
    "column 3: Year\n",
    "column 4: amount_spent`\n",
    "\n",
    "<img src=\"images/table19.png\" width=\"450\" height=\"450\">\n"
   ]
  },
  {
   "cell_type": "markdown",
   "metadata": {},
   "source": [
    "### TO-DO: Add the tables as part of the denormalization process"
   ]
  },
  {
   "cell_type": "code",
   "execution_count": null,
   "metadata": {},
   "outputs": [],
   "source": [
    "# TO-DO: Create all tables\n",
    "try: \n",
    "    cur.execute(\"#####\")\n",
    "except psycopg2.Error as e: \n",
    "    print(\"Error: Issue creating table\")\n",
    "    print (e)\n",
    "\n",
    "\n",
    "\n",
    "#Insert data into all tables \n",
    "    \n",
    "try: \n",
    "    cur.execute(\"INSERT INTO transactions (#####) \\\n",
    "                 VALUES (%s, %s, %s, %s, %s)\", \\\n",
    "                 (#####))\n",
    "except psycopg2.Error as e: \n",
    "    print(\"Error: Inserting Rows\")\n",
    "    print (e)\n",
    "    \n",
    "try: \n",
    "    cur.execute(\"INSERT INTO transactions (#####) \\\n",
    "                 VALUES (%s, %s, %s, %s, %s)\", \\\n",
    "                 (#####))\n",
    "except psycopg2.Error as e: \n",
    "    print(\"Error: Inserting Rows\")\n",
    "    print (e)\n",
    "    \n",
    "try: \n",
    "    cur.execute(\"INSERT INTO transactions (#####) \\\n",
    "                 VALUES (%s, %s, %s, %s, %s)\", \\\n",
    "                 (#####))\n",
    "except psycopg2.Error as e: \n",
    "    print(\"Error: Inserting Rows\")\n",
    "    print (e)"
   ]
  },
  {
   "cell_type": "markdown",
   "metadata": {},
   "source": [
    "### Now you should be able to do a simplifed query to get the information you need. No  `JOIN` is needed."
   ]
  },
  {
   "cell_type": "code",
   "execution_count": null,
   "metadata": {},
   "outputs": [],
   "source": [
    "try: \n",
    "    cur.execute(\"#####\")\n",
    "        \n",
    "except psycopg2.Error as e: \n",
    "    print(\"Error: select *\")\n",
    "    print (e)\n",
    "\n",
    "row = cur.fetchone()\n",
    "while row:\n",
    "   print(row)\n",
    "   row = cur.fetchone()"
   ]
  },
  {
   "cell_type": "markdown",
   "metadata": {},
   "source": [
    "#### Your output for the above cell should be the following:\n",
    "(1, 'Amanda', 40)<br>\n",
    "(2, 'Toby', 19)<br>\n",
    "(3, 'Max', 45)"
   ]
  },
  {
   "cell_type": "markdown",
   "metadata": {},
   "source": [
    "### Query 2: `select cashier_name, SUM(amount_spent) FROM <min number of tables> GROUP BY cashier_name` \n",
    "\n",
    "To avoid using any `JOINS`, first create a new table with just the information we need. \n",
    "\n",
    "`Table Name: cashier_sales\n",
    "col: Transaction Id\n",
    "Col: Cashier Name\n",
    "Col: Cashier Id\n",
    "col: Amount_Spent\n",
    "`\n",
    "\n",
    "<img src=\"images/table20.png\" width=\"350\" height=\"350\">\n",
    "\n",
    "### TO-DO: Create a new table with just the information you need."
   ]
  },
  {
   "cell_type": "code",
   "execution_count": null,
   "metadata": {},
   "outputs": [],
   "source": [
    "# Create the tables\n",
    "\n",
    "try: \n",
    "    cur.execute(\"#####\")\n",
    "except psycopg2.Error as e: \n",
    "    print(\"Error: Issue creating table\")\n",
    "    print (e)\n",
    "\n",
    "\n",
    "#Insert into all tables \n",
    "    \n",
    "try: \n",
    "    cur.execute(\"INSERT INTO ##### (#####) \\\n",
    "                 VALUES (%s, %s, %s, %s)\", \\\n",
    "                 (##### ))\n",
    "except psycopg2.Error as e: \n",
    "    print(\"Error: Inserting Rows\")\n",
    "    print (e)\n",
    "\n",
    "try: \n",
    "    cur.execute(\"INSERT INTO ##### (#####) \\\n",
    "                 VALUES (%s, %s, %s, %s)\", \\\n",
    "                 (##### ))\n",
    "except psycopg2.Error as e: \n",
    "    print(\"Error: Inserting Rows\")\n",
    "    print (e)\n",
    "\n",
    "try: \n",
    "    cur.execute(\"INSERT INTO ##### (#####) \\\n",
    "                 VALUES (%s, %s, %s, %s)\", \\\n",
    "                 (#####))\n",
    "except psycopg2.Error as e: \n",
    "    print(\"Error: Inserting Rows\")\n",
    "    print (e)"
   ]
  },
  {
   "cell_type": "markdown",
   "metadata": {},
   "source": [
    "### Run the query"
   ]
  },
  {
   "cell_type": "code",
   "execution_count": null,
   "metadata": {},
   "outputs": [],
   "source": [
    "try: \n",
    "    cur.execute(\"#####\")\n",
    "        \n",
    "except psycopg2.Error as e: \n",
    "    print(\"Error: select *\")\n",
    "    print (e)\n",
    "\n",
    "row = cur.fetchone()\n",
    "while row:\n",
    "   print(row)\n",
    "   row = cur.fetchone()"
   ]
  },
  {
   "cell_type": "markdown",
   "metadata": {},
   "source": [
    "#### Your output for the above cell should be the following:\n",
    "('Sam', 59)<br>\n",
    "('Max', 45)\n"
   ]
  },
  {
   "cell_type": "markdown",
   "metadata": {},
   "source": [
    "#### We have successfully taken normalized table and denormalized them inorder to speed up our performance and allow for simplier queries to be executed. "
   ]
  },
  {
   "cell_type": "markdown",
   "metadata": {},
   "source": [
    "### Drop the tables"
   ]
  },
  {
   "cell_type": "code",
   "execution_count": null,
   "metadata": {},
   "outputs": [],
   "source": [
    "try: \n",
    "    cur.execute(\"DROP table ####\")\n",
    "except psycopg2.Error as e: \n",
    "    print(\"Error: Dropping table\")\n",
    "    print (e)\n",
    "try: \n",
    "    cur.execute(\"DROP table #####\")\n",
    "except psycopg2.Error as e: \n",
    "    print(\"Error: Dropping table\")\n",
    "    print (e)\n",
    "try: \n",
    "    cur.execute(\"DROP table #####\")\n",
    "except psycopg2.Error as e: \n",
    "    print(\"Error: Dropping table\")\n",
    "    print (e)\n",
    "try: \n",
    "    cur.execute(\"DROP table #####\")\n",
    "except psycopg2.Error as e: \n",
    "    print(\"Error: Dropping table\")\n",
    "    print (e)\n",
    "try: \n",
    "    cur.execute(\"DROP table #####\")\n",
    "except psycopg2.Error as e: \n",
    "    print(\"Error: Dropping table\")\n",
    "    print (e)\n",
    "try: \n",
    "    cur.execute(\"DROP table #####\")\n",
    "except psycopg2.Error as e: \n",
    "    print(\"Error: Dropping table\")\n",
    "    print (e)"
   ]
  },
  {
   "cell_type": "markdown",
   "metadata": {},
   "source": [
    "### And finally close your cursor and connection. "
   ]
  },
  {
   "cell_type": "code",
   "execution_count": null,
   "metadata": {},
   "outputs": [],
   "source": [
    "cur.close()\n",
    "conn.close()"
   ]
  }
 ],
 "metadata": {
  "kernelspec": {
   "display_name": "Python 3",
   "language": "python",
   "name": "python3"
  },
  "language_info": {
   "codemirror_mode": {
    "name": "ipython",
    "version": 3
   },
   "file_extension": ".py",
   "mimetype": "text/x-python",
   "name": "python",
   "nbconvert_exporter": "python",
   "pygments_lexer": "ipython3",
   "version": "3.8.3"
  }
 },
 "nbformat": 4,
 "nbformat_minor": 2
}
