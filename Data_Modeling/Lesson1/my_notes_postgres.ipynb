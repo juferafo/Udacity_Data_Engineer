{
 "cells": [
  {
   "cell_type": "code",
   "execution_count": 1,
   "metadata": {},
   "outputs": [],
   "source": [
    "import psycopg2"
   ]
  },
  {
   "cell_type": "code",
   "execution_count": 14,
   "metadata": {},
   "outputs": [],
   "source": [
    "# To connect with the database!\n",
    "# In mac run the below command to start the DB\n",
    "# pg_ctl -D /usr/local/var/postgres start && brew services start postgresql\n",
    "conn2 = psycopg2.connect(database=\"studentdb\", user=\"student\", password=\"student\")"
   ]
  },
  {
   "cell_type": "code",
   "execution_count": 15,
   "metadata": {},
   "outputs": [],
   "source": [
    "# Allows Python code to execute PostgreSQL commands in a database session: SELECT * FROM <TABLE>\n",
    "cur = conn2.cursor()"
   ]
  },
  {
   "cell_type": "code",
   "execution_count": 16,
   "metadata": {},
   "outputs": [],
   "source": [
    "cur.execute(\"CREATE TABLE IF NOT EXISTS test2 (col1 int, col2 int, col3 int);\")\n",
    "conn2.commit()\n",
    "# It is necessary to commit each action = transaction \n",
    "# if there is no commit, the transaction will be aborted and we will need to restart the connection\n",
    "# conn.set_session(autocommit=True) -> to avoid this"
   ]
  },
  {
   "cell_type": "code",
   "execution_count": 23,
   "metadata": {},
   "outputs": [
    {
     "name": "stdout",
     "output_type": "stream",
     "text": [
      "[]\n"
     ]
    }
   ],
   "source": [
    "cur.execute(\"SELECT * FROM test2\")\n",
    "print(cur.fetchall())"
   ]
  },
  {
   "cell_type": "code",
   "execution_count": 24,
   "metadata": {},
   "outputs": [],
   "source": [
    "cur.execute(\"DROP TABLE test2\")"
   ]
  },
  {
   "cell_type": "code",
   "execution_count": null,
   "metadata": {},
   "outputs": [],
   "source": []
  }
 ],
 "metadata": {
  "kernelspec": {
   "display_name": "Python 3",
   "language": "python",
   "name": "python3"
  },
  "language_info": {
   "codemirror_mode": {
    "name": "ipython",
    "version": 3
   },
   "file_extension": ".py",
   "mimetype": "text/x-python",
   "name": "python",
   "nbconvert_exporter": "python",
   "pygments_lexer": "ipython3",
   "version": "3.6.12"
  }
 },
 "nbformat": 4,
 "nbformat_minor": 4
}
